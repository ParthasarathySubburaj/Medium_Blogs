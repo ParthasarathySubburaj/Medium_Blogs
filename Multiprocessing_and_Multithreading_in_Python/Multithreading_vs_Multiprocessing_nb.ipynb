{
 "cells": [
  {
   "cell_type": "code",
   "execution_count": 1,
   "metadata": {},
   "outputs": [],
   "source": [
    "import os\n",
    "import time\n",
    "import cv2\n",
    "import dlib\n",
    "import glob\n",
    "import random\n",
    "import nltk\n",
    "import numpy as np\n",
    "from functools import reduce\n",
    "import concurrent.futures\n",
    "import xml.etree.ElementTree as ET\n",
    "from nltk.stem import PorterStemmer, LancasterStemmer\n",
    "from nltk.tokenize import sent_tokenize, word_tokenize"
   ]
  },
  {
   "cell_type": "code",
   "execution_count": 2,
   "metadata": {},
   "outputs": [],
   "source": [
    "def sleep_fun(seconds):\n",
    "    print(\"Sleeping for {} second(s)\".format(seconds))\n",
    "    time.sleep(seconds)"
   ]
  },
  {
   "cell_type": "code",
   "execution_count": 3,
   "metadata": {},
   "outputs": [
    {
     "name": "stdout",
     "output_type": "stream",
     "text": [
      "Sleeping for 1 second(s)\n",
      "Sleeping for 2 second(s)\n",
      "Sleeping for 3 second(s)\n",
      "Series computation: 6.007047891616821 secs \n"
     ]
    }
   ],
   "source": [
    "sleep_times = [1,2,3]\n",
    "start = time.time()\n",
    "for i in sleep_times:\n",
    "    sleep_fun(i)\n",
    "end = time.time()\n",
    "print(\"Series computation: {} secs \".format(end - start))"
   ]
  },
  {
   "cell_type": "code",
   "execution_count": 4,
   "metadata": {},
   "outputs": [
    {
     "name": "stdout",
     "output_type": "stream",
     "text": [
      "Sleeping for 1 second(s)\n",
      "Sleeping for 2 second(s)\n",
      "Sleeping for 3 second(s)\n",
      "Multithreading computation: 3.0117909908294678 secs \n"
     ]
    }
   ],
   "source": [
    "start = time.time()\n",
    "with concurrent.futures.ThreadPoolExecutor() as executor:\n",
    "    executor.map(sleep_fun, sleep_times) \n",
    "end = time.time()\n",
    "print(\"Multithreading computation: {} secs \".format(end - start))"
   ]
  },
  {
   "cell_type": "code",
   "execution_count": 6,
   "metadata": {},
   "outputs": [],
   "source": [
    "def calculation(number):\n",
    "    random_list = random.sample(range(10000000), number)\n",
    "    return reduce(lambda x, y: x*y, random_list)"
   ]
  },
  {
   "cell_type": "code",
   "execution_count": 7,
   "metadata": {},
   "outputs": [
    {
     "name": "stdout",
     "output_type": "stream",
     "text": [
      "Series computation: 39.45596265792847 sec\n"
     ]
    }
   ],
   "source": [
    "numbers = [200000, 200000, 200000]\n",
    "start = time.time()\n",
    "for i in numbers:\n",
    "    result = calculation(i)\n",
    "end = time.time()\n",
    "print(\"Series computation: {} sec\".format(end - start))"
   ]
  },
  {
   "cell_type": "code",
   "execution_count": 8,
   "metadata": {},
   "outputs": [
    {
     "name": "stdout",
     "output_type": "stream",
     "text": [
      "Multithreading computation: 40.47984790802002 secs \n"
     ]
    }
   ],
   "source": [
    "start = time.time()\n",
    "with concurrent.futures.ThreadPoolExecutor() as executor:\n",
    "    executor.map(calculation, numbers)   \n",
    "end = time.time()\n",
    "print(\"Multithreading computation: {} secs \".format(end - start))"
   ]
  },
  {
   "cell_type": "code",
   "execution_count": 9,
   "metadata": {},
   "outputs": [
    {
     "name": "stdout",
     "output_type": "stream",
     "text": [
      "MultiProcessing computation: 13.550559282302856 secs \n"
     ]
    }
   ],
   "source": [
    "start = time.time()\n",
    "with concurrent.futures.ProcessPoolExecutor() as executor:\n",
    "    executor.map(calculation, numbers) \n",
    "end = time.time()\n",
    "print(\"MultiProcessing computation: {} secs \".format(end - start))"
   ]
  },
  {
   "cell_type": "markdown",
   "metadata": {},
   "source": [
    "# Example from Computer Vision"
   ]
  },
  {
   "cell_type": "code",
   "execution_count": 10,
   "metadata": {},
   "outputs": [],
   "source": [
    "def face_detection(image_path):\n",
    "    image_name = os.path.basename(image_path)\n",
    "    image = cv2.imread(image_path)\n",
    "    face_rect = image.copy()\n",
    "    faces = face_detector(image)\n",
    "    if len(faces) !=0:\n",
    "        for face in faces:\n",
    "            x1 = face.left()\n",
    "            y1 = face.top()\n",
    "            x2 = face.right()\n",
    "            y2 = face.bottom()\n",
    "            face_rect = cv2.rectangle(face_rect, (x1,y1), (x2,y2), (255,0,0), 5)\n",
    "        cv2.imwrite(\"./Datasets/face_processed/\" + image_name, face_rect)"
   ]
  },
  {
   "cell_type": "code",
   "execution_count": 11,
   "metadata": {},
   "outputs": [
    {
     "name": "stdout",
     "output_type": "stream",
     "text": [
      "Series computation: 16.28821086883545 seconds\n"
     ]
    }
   ],
   "source": [
    "face_detector = dlib.get_frontal_face_detector()\n",
    "images = list(glob.iglob(\"./Datasets/face_raw/*.jpg\"))\n",
    "images.sort()\n",
    "start = time.time()\n",
    "for i in images:\n",
    "    face_detection(i)\n",
    "end = time.time()\n",
    "print(\"Series computation: {} seconds\".format(end - start))"
   ]
  },
  {
   "cell_type": "code",
   "execution_count": 12,
   "metadata": {},
   "outputs": [
    {
     "name": "stdout",
     "output_type": "stream",
     "text": [
      "Multiprocessing computation: 3.3354105949401855 sec\n"
     ]
    }
   ],
   "source": [
    "start = time.time()\n",
    "with concurrent.futures.ProcessPoolExecutor() as executor:\n",
    "    executor.map(face_detection, images)    \n",
    "end = time.time()\n",
    "print(\"Multiprocessing computation: {} sec\".format(end - start))"
   ]
  },
  {
   "cell_type": "code",
   "execution_count": 13,
   "metadata": {},
   "outputs": [
    {
     "name": "stdout",
     "output_type": "stream",
     "text": [
      "Multithreading computation: 14.369969844818115 sec\n"
     ]
    }
   ],
   "source": [
    "start = time.time()\n",
    "with concurrent.futures.ThreadPoolExecutor() as executor:\n",
    "    executor.map(face_detection, images)  \n",
    "end = time.time()\n",
    "print(\"Multithreading computation: {} sec\".format(end - start))"
   ]
  },
  {
   "cell_type": "markdown",
   "metadata": {},
   "source": [
    "# Example from NLP"
   ]
  },
  {
   "cell_type": "code",
   "execution_count": null,
   "metadata": {},
   "outputs": [],
   "source": [
    "# Make sure you unzip the blogs.zip file in ./Datasets/blog_xml/ before running this segement"
   ]
  },
  {
   "cell_type": "code",
   "execution_count": 15,
   "metadata": {},
   "outputs": [],
   "source": [
    "def stemSentence(sentence, stemmer):\n",
    "    token_words=word_tokenize(sentence)\n",
    "    stem_sentence=[]\n",
    "    for word in token_words:\n",
    "        stem_sentence.append(stemmer.stem(word))\n",
    "        stem_sentence.append(\" \")\n",
    "    return \"\".join(stem_sentence)"
   ]
  },
  {
   "cell_type": "code",
   "execution_count": 16,
   "metadata": {},
   "outputs": [],
   "source": [
    "def xml_process(xml_path):\n",
    "    try:\n",
    "        root = ET.parse(xml_path).getroot()\n",
    "        posts = []\n",
    "        file_name = os.path.basename(xml_path)[:-4] + \".txt\"\n",
    "        \n",
    "        for i in root.iter(\"post\"):\n",
    "            posts.append(i.text)\n",
    "        porter = PorterStemmer()    \n",
    "        sentences = map(lambda x: stemSentence(x, porter), posts)\n",
    "        \n",
    "        for i in sentences:\n",
    "            with open(\"./Datasets/blog_processed/\" + file_name, \"a+\") as file:\n",
    "                file.write(i)\n",
    "                file.write(\"\\n\")\n",
    "    except:\n",
    "        pass"
   ]
  },
  {
   "cell_type": "code",
   "execution_count": 17,
   "metadata": {},
   "outputs": [
    {
     "name": "stdout",
     "output_type": "stream",
     "text": [
      "Series computation: 7.939080715179443 seconds\n"
     ]
    }
   ],
   "source": [
    "xml_files = glob.glob(\"./Datasets/blog_xml/*.xml\")\n",
    "start = time.time()\n",
    "for i in xml_files:\n",
    "    xml_process(i)\n",
    "end = time.time()\n",
    "print(\"Series computation: {} seconds\".format(end - start))"
   ]
  },
  {
   "cell_type": "code",
   "execution_count": 20,
   "metadata": {},
   "outputs": [
    {
     "name": "stdout",
     "output_type": "stream",
     "text": [
      "Multiprocessing computation: 1.252767562866211 sec\n"
     ]
    }
   ],
   "source": [
    "start = time.time()\n",
    "with concurrent.futures.ProcessPoolExecutor() as executor:\n",
    "    executor.map(xml_process, xml_files)    \n",
    "end = time.time()\n",
    "print(\"Multiprocessing computation: {} sec\".format(end - start))"
   ]
  },
  {
   "cell_type": "code",
   "execution_count": 19,
   "metadata": {},
   "outputs": [
    {
     "name": "stdout",
     "output_type": "stream",
     "text": [
      "Multithreading computation: 9.674808025360107 sec\n"
     ]
    }
   ],
   "source": [
    "start = time.time()\n",
    "with concurrent.futures.ThreadPoolExecutor() as executor:\n",
    "    executor.map(xml_process, xml_files)  \n",
    "end = time.time()\n",
    "print(\"Multithreading computation: {} sec\".format(end - start))"
   ]
  },
  {
   "cell_type": "code",
   "execution_count": null,
   "metadata": {},
   "outputs": [],
   "source": []
  }
 ],
 "metadata": {
  "kernelspec": {
   "display_name": "Python 3",
   "language": "python",
   "name": "python3"
  },
  "language_info": {
   "codemirror_mode": {
    "name": "ipython",
    "version": 3
   },
   "file_extension": ".py",
   "mimetype": "text/x-python",
   "name": "python",
   "nbconvert_exporter": "python",
   "pygments_lexer": "ipython3",
   "version": "3.6.7"
  }
 },
 "nbformat": 4,
 "nbformat_minor": 2
}
